{
 "cells": [
  {
   "cell_type": "code",
   "execution_count": 1,
   "metadata": {},
   "outputs": [],
   "source": [
    "import re\n",
    "import numpy as np\n",
    "import pickle\n",
    "import joblib"
   ]
  },
  {
   "cell_type": "code",
   "execution_count": 2,
   "metadata": {},
   "outputs": [],
   "source": [
    "# function for cleaning the plots of the movies\n",
    "def clean_text(text):\n",
    "    text = text.lower()\n",
    "    text = re.sub(r\"what's\", \"what is \", text)\n",
    "    text = re.sub(r\"\\'s\", \" \", text)\n",
    "    text = re.sub(r\"\\'ve\", \" have \", text)\n",
    "    text = re.sub(r\"can't\", \"can not \", text)\n",
    "    text = re.sub(r\"n't\", \" not \", text)\n",
    "    text = re.sub(r\"i'm\", \"i am \", text)\n",
    "    text = re.sub(r\"\\'re\", \" are \", text)\n",
    "    text = re.sub(r\"\\'d\", \" would \", text)\n",
    "    text = re.sub(r\"\\'ll\", \" will \", text)\n",
    "    text = re.sub(r\"\\'scuse\", \" excuse \", text)\n",
    "    text = text.strip(' ')\n",
    "    return text\n",
    "\n",
    "genre_type = []\n",
    "mainGenres = np.load(\"mainGenres.npy\", allow_pickle=True)\n",
    "with open(\"model.pkl\", \"rb\") as pkl_file:\n",
    "    models = pickle.load(pkl_file)\n",
    "# Load the TF-IDF vectorizer and matrix from the file\n",
    "tfidf = joblib.load(\"tfidf.joblib\")"
   ]
  },
  {
   "cell_type": "code",
   "execution_count": 3,
   "metadata": {},
   "outputs": [
    {
     "name": "stdout",
     "output_type": "stream",
     "text": [
      "Genre Type: comedy\n"
     ]
    }
   ],
   "source": [
    "text = \"The film begins with The Narrator (Helen Mirren) explaining the societal impact of the Barbie doll on history, accompanied by a clip of the original 1959 Barbie towering over a desert landscape, while little girls playing with baby dolls begin to destroy them.\\\n",
    "Hidden from the real world is Barbieland, where the Barbies and Kens, alongside other dolls like Allan (Michael Cera) and Midge (Emerald Fennell), live. The Barbies preside over Barbieland in a matriarchal system and work high-position jobs while the Kens spend time as futile subordinates living in the Barbies' shadow. Beach Ken (Ryan Gosling) has feelings for Stereotypical Barbie (Margot Robbie) and constantly vies for her attention, but she doesn't recognize.\\\n",
    "During a dance party at her house, (Stereotypical) Barbie suddenly starts questioning her mortality. The next day, Barbie suffers an existential crisis, experiencing a series of mishaps including her perfect skin with blemishes and her arched feet going flat. The other Barbies suggest she visit Weird Barbie (Kate McKinnon), who informs her the human girl who is playing with her is unhappy. To fix her crisis, Barbie must travel to the real world, find the girl and help her.\\\n",
    "On her way to the real world, Barbie finds (Beach) Ken stowed away in her car. He convinces her to let him join and the two travel to Los Angeles, where they accidentally get arrested several times. Barbie learns to cry upon taking in how flawed the real world is, before complimenting an old woman on her beauty. Ken wonders off and discovers the patriarchy, feeling accepted for the first time. He excitedly travels back to Barbieland.\\\n",
    "At a local school, Barbie finds her human girl, Sasha (Ariana Greenblatt), and tries to help her. However, Sasha and her friends condemn Barbie for glorifying bimbo culture and unhealthy life goals, causing Barbie to run off in tears. Meanwhile, the Mattel CEO (Will Ferrell) discovers Barbie's existence and orders her deportation to Barbieland, sending his men after her.\\\n",
    "Barbie arrives at Mattel Headquarters and meets the CEO and his male subordinates. They try to send her back via a life-sized doll box, but Barbie deduces their intention and escapes in a pursuit. She is helped by Sasha and her mother Gloria (America Ferrera), who is revealed to be the incitement for Barbie's worries. Gloria started playing with Barbie during a midlife crisis, relinquishing her concerns over to Barbie. The trio, unaware they are being followed by the CEO and his colleagues, travel back to Barbieland.\\\n",
    "Arriving in Barbieland, the three find that Ken has led his fellow Kens in overthrowing the system, enslaving the Barbies as compliant girlfriends. They also plan to enshrine their new patriarchy in the Barbieland constitution the next day. Barbie tries to persuade Ken to change it back, but he refuses as he finally feels worthy for the first time. Barbie sinks into a depression before Gloria gives a speech on being a woman, inspiring Barbie to save Barbieland.\\\n",
    "Barbie, Gloria, Sasha, Weird Barbie, Allan (who is against the Kens' new rule) and other discontinued Barbies and Kens hatch a plan. Using Gloria's speech, they free the Barbies of their subjugation before turning the Kens against each other to distract them from changing the constitution. As the Kens fight on the beach, the Barbies restore Barbieland's matriarchy back into the constitution.\\\n",
    "A distraught Ken expresses disappointment in being nothing other than an accessory to Barbie, to which she encourages him to be his own person. The two apologize to each other for their mistakes. President Barbie (Issa Rae) makes a friendly deal with the Mattel CEO before agreeing to equality for the Kens and other discontinued toys. Barbie, still unsure of who she is, meets with the spirit of Ruth Handler (Rhea Perlman), Mattel's co-founder and her creator. Ruth states that Barbie doesn't have a specific purpose, as her evolution will always exceed her roots. She shows Barbie visions of motherhood, encouraging her to choose her own path.\\\n",
    "Barbie decides to live in the real world as a human, going by the name Barbara Handler. Gloria and Sasha drive her to an appointment, where Barbie proudly declares she is there to see her gynecologist.\"\n",
    "\n",
    "input_vector = tfidf.transform([clean_text(text)])\n",
    "# Loop through each genre\n",
    "for genre in mainGenres:\n",
    "    # Predict the genre for the given sentence\n",
    "    prediction = models[genre].predict(input_vector)\n",
    "    if prediction == 1:\n",
    "        genre_type.append(genre)\n",
    "print(\"Genre Type: \"+ \", \".join(map(str, genre_type)))"
   ]
  }
 ],
 "metadata": {
  "kernelspec": {
   "display_name": "Python 3",
   "language": "python",
   "name": "python3"
  },
  "language_info": {
   "codemirror_mode": {
    "name": "ipython",
    "version": 3
   },
   "file_extension": ".py",
   "mimetype": "text/x-python",
   "name": "python",
   "nbconvert_exporter": "python",
   "pygments_lexer": "ipython3",
   "version": "3.11.7"
  }
 },
 "nbformat": 4,
 "nbformat_minor": 2
}
